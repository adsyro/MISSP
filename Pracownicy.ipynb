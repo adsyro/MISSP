{
 "cells": [
  {
   "cell_type": "markdown",
   "metadata": {},
   "source": [
    "# Organizacja pracy pracowników\n",
    "\n",
    "Algorytm optymalizacji czasu pracy każdego z pracowników przy komputerze."
   ]
  },
  {
   "cell_type": "markdown",
   "metadata": {},
   "source": [
    "# Algorytm Simplex"
   ]
  },
  {
   "cell_type": "markdown",
   "metadata": {},
   "source": [
    "Import funkcji modelującej :"
   ]
  },
  {
   "cell_type": "code",
   "execution_count": 9,
   "metadata": {},
   "outputs": [],
   "source": [
    "from pulp import *"
   ]
  },
  {
   "cell_type": "markdown",
   "metadata": {},
   "source": [
    "Definicja problemu - Minimalizacja :"
   ]
  },
  {
   "cell_type": "code",
   "execution_count": 10,
   "metadata": {},
   "outputs": [],
   "source": [
    "prob = LpProblem(\"Czas użytku komputera\",LpMinimize)"
   ]
  },
  {
   "cell_type": "markdown",
   "metadata": {},
   "source": [
    "Definicja zmiennych wraz z ich argumentami :"
   ]
  },
  {
   "cell_type": "code",
   "execution_count": 11,
   "metadata": {},
   "outputs": [],
   "source": [
    "P1wt=LpVariable(\"Czas pracy pierwszego pracownika we wtorek\",0,6,LpInteger)\n",
    "P1czw=LpVariable(\"Czas pracy pierwszego pracownika w czwartek\",0,6,LpInteger)\n",
    "P2pon=LpVariable(\"Czas pracy drugiego pracownika w poniedziałek\",0,8,LpInteger)\n",
    "P2sr=LpVariable(\"Czas pracy drugiego pracownika w środę\",0,8,LpInteger)\n",
    "P2pia=LpVariable(\"Czas pracy drugiego pracownika w piątek\",0,8,LpInteger)\n",
    "P3pon=LpVariable(\"Czas pracy trzeciego pracownika w poniedziałek\",0,3,LpInteger)\n",
    "P3wt=LpVariable(\"Czas pracy trzeciego pracownika we wtorek\",0,3,LpInteger)\n",
    "P3czw=LpVariable(\"Czas pracy trzeciego pracownika w czwartek\",0,3,LpInteger)\n",
    "P4wt=LpVariable(\"Czas pracy czwartego pracownika we wtorek\",0,4,LpInteger)\n",
    "P4sr=LpVariable(\"Czas pracy czwartego pracownika w środę\",0,4,LpInteger)\n",
    "P4czw=LpVariable(\"Czas pracy czwartego pracownika w czwartek\",0,5,LpInteger)\n",
    "P4pia=LpVariable(\"Czas pracy czwartego pracownika w piątek\",0,5,LpInteger)\n",
    "P5pon=LpVariable(\"Czas pracy piątego pracownika w poniedziałek\",0,3,LpInteger)\n",
    "P5wt=LpVariable(\"Czas pracy piątego pracownika we wtorek\",0,3,LpInteger)\n",
    "P5sr=LpVariable(\"Czas pracy piątego pracownika w środę\",0,3,LpInteger)\n",
    "P5czw=LpVariable(\"Czas pracy piątego pracownika w czwartek\",0,3,LpInteger)\n",
    "P5pia=LpVariable(\"Czas pracy piątego pracownika w piątek\",0,3,LpInteger)"
   ]
  },
  {
   "cell_type": "markdown",
   "metadata": {},
   "source": [
    "Równania zbierające całkowity czas pracy danego pracownika :"
   ]
  },
  {
   "cell_type": "code",
   "execution_count": 12,
   "metadata": {},
   "outputs": [],
   "source": [
    "P1 = P1wt + P1czw\n",
    "P2 = P2pon + P2sr + P2pia\n",
    "P3 = P3pon + P3wt + P3czw\n",
    "P4 = P4wt + P4sr + P4czw + P4pia\n",
    "P5 = P5pon +P5wt +P5sr + P5czw + P5pia"
   ]
  },
  {
   "cell_type": "markdown",
   "metadata": {},
   "source": [
    "Funkcja celu :"
   ]
  },
  {
   "cell_type": "code",
   "execution_count": 13,
   "metadata": {},
   "outputs": [],
   "source": [
    "prob += P1*25 + P2*24 + P3*20 + P4*30 + P5*19"
   ]
  },
  {
   "cell_type": "markdown",
   "metadata": {},
   "source": [
    "Definicja ogarniczeń ilości godzin w poszczególnych dniach :"
   ]
  },
  {
   "cell_type": "code",
   "execution_count": 14,
   "metadata": {},
   "outputs": [],
   "source": [
    "prob += P2pon + P3pon + P5pon >=  12 \n",
    "prob += P1wt + P3wt + P4wt + P5wt >=  12\n",
    "prob += P2sr + P4sr + P5sr >=  12\n",
    "prob += P1czw + P3czw + P4czw + P5czw >=  12\n",
    "prob += P2pia + P4pia + P5pia >=  12"
   ]
  },
  {
   "cell_type": "markdown",
   "metadata": {},
   "source": [
    "Wybór sposobu rozwiązania problemu :"
   ]
  },
  {
   "cell_type": "code",
   "execution_count": 15,
   "metadata": {},
   "outputs": [
    {
     "data": {
      "text/plain": [
       "1"
      ]
     },
     "execution_count": 15,
     "metadata": {},
     "output_type": "execute_result"
    }
   ],
   "source": [
    "prob.solve()"
   ]
  },
  {
   "cell_type": "markdown",
   "metadata": {},
   "source": [
    "Wyświetlenie statusu rozwiązania, zoptymalizowanej wartości funkcji celu oraz zoptymalizowanych wartości zmiennych :"
   ]
  },
  {
   "cell_type": "code",
   "execution_count": 16,
   "metadata": {},
   "outputs": [
    {
     "name": "stdout",
     "output_type": "stream",
     "text": [
      "Status: Optimal\n",
      "Całkowity koszt pracowników =  1353.0\n",
      "Czas_pracy_czwartego_pracownika_w_czwartek = 0.0\n",
      "Czas_pracy_czwartego_pracownika_w_piątek = 1.0\n",
      "Czas_pracy_czwartego_pracownika_w_środę = 1.0\n",
      "Czas_pracy_czwartego_pracownika_we_wtorek = 0.0\n",
      "Czas_pracy_drugiego_pracownika_w_piątek = 8.0\n",
      "Czas_pracy_drugiego_pracownika_w_poniedziałek = 6.0\n",
      "Czas_pracy_drugiego_pracownika_w_środę = 8.0\n",
      "Czas_pracy_pierwszego_pracownika_w_czwartek = 6.0\n",
      "Czas_pracy_pierwszego_pracownika_we_wtorek = 6.0\n",
      "Czas_pracy_piątego_pracownika_w_czwartek = 3.0\n",
      "Czas_pracy_piątego_pracownika_w_piątek = 3.0\n",
      "Czas_pracy_piątego_pracownika_w_poniedziałek = 3.0\n",
      "Czas_pracy_piątego_pracownika_w_środę = 3.0\n",
      "Czas_pracy_piątego_pracownika_we_wtorek = 3.0\n",
      "Czas_pracy_trzeciego_pracownika_w_czwartek = 3.0\n",
      "Czas_pracy_trzeciego_pracownika_w_poniedziałek = 3.0\n",
      "Czas_pracy_trzeciego_pracownika_we_wtorek = 3.0\n",
      "Całkowity czas pracy pracownika pierwszego = 12.0\n",
      "Całkowity czas pracy pracownika drugiego = 22.0\n",
      "Całkowity czas pracy pracownika trzeciego= 9.0\n",
      "Całkowity czas pracy pracownika czwartego= 2.0\n",
      "Całkowity czas pracy pracownika piątego= 15.0\n"
     ]
    }
   ],
   "source": [
    "print (\"Status:\", LpStatus[prob.status])\n",
    "print (\"Całkowity koszt pracowników = \", value(prob.objective))\n",
    "for v in prob.variables():print (v.name, \"=\", v.varValue)    \n",
    "print (\"Całkowity czas pracy pracownika pierwszego =\", value(P1))\n",
    "print (\"Całkowity czas pracy pracownika drugiego =\", value(P2))\n",
    "print (\"Całkowity czas pracy pracownika trzeciego=\", value(P3))\n",
    "print (\"Całkowity czas pracy pracownika czwartego=\", value(P4))\n",
    "print (\"Całkowity czas pracy pracownika piątego=\", value(P5))\n"
   ]
  }
 ],
 "metadata": {
  "kernelspec": {
   "display_name": "Python 3",
   "language": "python",
   "name": "python3"
  },
  "language_info": {
   "codemirror_mode": {
    "name": "ipython",
    "version": 3
   },
   "file_extension": ".py",
   "mimetype": "text/x-python",
   "name": "python",
   "nbconvert_exporter": "python",
   "pygments_lexer": "ipython3",
   "version": "3.6.7"
  }
 },
 "nbformat": 4,
 "nbformat_minor": 2
}
