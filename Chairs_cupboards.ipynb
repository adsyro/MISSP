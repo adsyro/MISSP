{
 "cells": [
  {
   "cell_type": "markdown",
   "metadata": {},
   "source": [
    "# Maksymalizacja zysków / optymalizacja produkcji.\n",
    "\n",
    "Wprowadzenie algorytmu optymalizacji produkcji w zakładzie stolarskim."
   ]
  },
  {
   "cell_type": "markdown",
   "metadata": {},
   "source": [
    "# Algorytm Simplex"
   ]
  },
  {
   "cell_type": "markdown",
   "metadata": {},
   "source": [
    "Import funkcji modelującej :"
   ]
  },
  {
   "cell_type": "code",
   "execution_count": 8,
   "metadata": {},
   "outputs": [],
   "source": [
    "from pulp import *"
   ]
  },
  {
   "cell_type": "markdown",
   "metadata": {},
   "source": [
    "Definicja problemu - Maksymalizacja"
   ]
  },
  {
   "cell_type": "code",
   "execution_count": 9,
   "metadata": {},
   "outputs": [],
   "source": [
    "prob = LpProblem(\"The Problem\",LpMaximize)"
   ]
  },
  {
   "cell_type": "markdown",
   "metadata": {},
   "source": [
    "Definicja zmiennych wraz z ich argumentami :"
   ]
  },
  {
   "cell_type": "code",
   "execution_count": 10,
   "metadata": {},
   "outputs": [],
   "source": [
    "x1=LpVariable(\"Ilosc krzeseł\",0,None,LpInteger)\n",
    "x2=LpVariable(\"Ilosc szafek\",0,None,LpInteger)\n",
    "x9=LpVariable(\"Dni pracy inżyniera\",0,30,LpInteger)\n",
    "x10=LpVariable(\"Dni pracy lakiernika\",0,21,LpInteger)\n",
    "x11=LpVariable(\"Dni pracy robota\",0,30,LpInteger)"
   ]
  },
  {
   "cell_type": "markdown",
   "metadata": {},
   "source": [
    "Funkcja celu :"
   ]
  },
  {
   "cell_type": "code",
   "execution_count": 11,
   "metadata": {},
   "outputs": [],
   "source": [
    "prob += 40000*x1 + 50000*x2 - (2*x9*700 + x10*1500 + x11*300)"
   ]
  },
  {
   "cell_type": "markdown",
   "metadata": {},
   "source": [
    "Definicja ogarniczeń :"
   ]
  },
  {
   "cell_type": "code",
   "execution_count": 12,
   "metadata": {},
   "outputs": [],
   "source": [
    "prob += 1.5*x1 + 3*x2 <= x10\n",
    "prob += 5*x1 + 6*x2 <= 2*x9\n",
    "prob += 3*x1 + 4*x2 <= x11"
   ]
  },
  {
   "cell_type": "markdown",
   "metadata": {},
   "source": [
    "Wybór sposobu rozwiązania problemu :"
   ]
  },
  {
   "cell_type": "code",
   "execution_count": 13,
   "metadata": {},
   "outputs": [
    {
     "data": {
      "text/plain": [
       "1"
      ]
     },
     "execution_count": 13,
     "metadata": {},
     "output_type": "execute_result"
    }
   ],
   "source": [
    "prob.solve()"
   ]
  },
  {
   "cell_type": "markdown",
   "metadata": {},
   "source": [
    "Wyświetlenie statusu rozwiązania, zoptymalizowanych wartości zmiennych oraz zoptymalizowanej wartości funkcji celu :"
   ]
  },
  {
   "cell_type": "code",
   "execution_count": 14,
   "metadata": {},
   "outputs": [
    {
     "name": "stdout",
     "output_type": "stream",
     "text": [
      "Status: Optimal\n",
      "Dni_pracy_inżyniera = 25.0\n",
      "Dni_pracy_lakiernika = 15.0\n",
      "Dni_pracy_robota = 30.0\n",
      "Ilosc_krzeseł = 10.0\n",
      "Ilosc_szafek = 0.0\n",
      "Przychód =  333500.0\n"
     ]
    }
   ],
   "source": [
    "print (\"Status:\", LpStatus[prob.status])\n",
    "for v in prob.variables():\n",
    "    print (v.name, \"=\", v.varValue)\n",
    "print (\"Przychód = \", value(prob.objective))"
   ]
  }
 ],
 "metadata": {
  "kernelspec": {
   "display_name": "Python 3",
   "language": "python",
   "name": "python3"
  },
  "language_info": {
   "codemirror_mode": {
    "name": "ipython",
    "version": 3
   },
   "file_extension": ".py",
   "mimetype": "text/x-python",
   "name": "python",
   "nbconvert_exporter": "python",
   "pygments_lexer": "ipython3",
   "version": "3.6.7"
  }
 },
 "nbformat": 4,
 "nbformat_minor": 2
}
